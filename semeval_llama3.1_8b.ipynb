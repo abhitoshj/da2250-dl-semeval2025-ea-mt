{
 "cells": [
  {
   "cell_type": "markdown",
   "id": "79a2b906",
   "metadata": {},
   "source": [
    "# Translate.py Notebook\n",
    "A Jupyter notebook version of `Translate.py` for batch translation using Ollama and LangChain."
   ]
  },
  {
   "cell_type": "markdown",
   "id": "318c4c16",
   "metadata": {},
   "source": [
    "## 1. Import Required Libraries\n",
    "Import all necessary libraries, including langchain, torch, tqdm, json, glob, and os."
   ]
  },
  {
   "cell_type": "code",
   "execution_count": null,
   "id": "9cdb3ac3",
   "metadata": {},
   "outputs": [],
   "source": [
    "from langchain_community.llms import Ollama\n",
    "from langchain.prompts import PromptTemplate\n",
    "from langchain.chains import LLMChain\n",
    "import zipfile\n",
    "import json\n",
    "import glob\n",
    "import sys\n",
    "import tqdm\n",
    "import requests\n",
    "# from comet.models import download_model, load_from_checkpoint\n",
    "from sentence_transformers import SentenceTransformer, util\n",
    "import torch\n",
    "import os"
   ]
  },
  {
   "cell_type": "markdown",
   "id": "49d56017",
   "metadata": {},
   "source": [
    "## 2. Define Language Mapping Function\n",
    "Define the `get_language_name` function to map language short codes to full language names."
   ]
  },
  {
   "cell_type": "code",
   "execution_count": 2,
   "id": "2dc57d26",
   "metadata": {},
   "outputs": [],
   "source": [
    "def get_language_name(short_code):\n",
    "    lang_map = {\n",
    "        'ar': 'Arabic',\n",
    "        'zh': 'Chinese (Traditional)',\n",
    "        'fr': 'French',\n",
    "        'de': 'German',\n",
    "        'it': 'Italian',\n",
    "        'ja': 'Japanese',\n",
    "        'ko': 'Korean',\n",
    "        'es': 'Spanish',\n",
    "        'th': 'Thai',\n",
    "        'tr': 'Turkish',\n",
    "        'en': 'English',\n",
    "        # Add more as needed\n",
    "    }\n",
    "    return lang_map.get(short_code, short_code)"
   ]
  },
  {
   "cell_type": "markdown",
   "id": "8ba6a1cf",
   "metadata": {},
   "source": [
    "## 3. Check CUDA Availability\n",
    "Check if CUDA is available using `torch.cuda.is_available()` and print the result."
   ]
  },
  {
   "cell_type": "code",
   "execution_count": 3,
   "id": "39230e29",
   "metadata": {},
   "outputs": [
    {
     "name": "stdout",
     "output_type": "stream",
     "text": [
      "CUDA available: True\n"
     ]
    }
   ],
   "source": [
    "gpu_av = torch.cuda.is_available()\n",
    "print(f\"CUDA available: {gpu_av}\")"
   ]
  },
  {
   "cell_type": "markdown",
   "id": "19064f36",
   "metadata": {},
   "source": [
    "## 4. Initialize Model and Prompt\n",
    "Initialize the Ollama model and create a `PromptTemplate` for translation. Set up the translation chain."
   ]
  },
  {
   "cell_type": "code",
   "execution_count": null,
   "id": "298e092d",
   "metadata": {},
   "outputs": [],
   "source": [
    "model_name = \"llama3.1_8b-q4_K_M_few(3)_shot_prompting\"\n",
    "llm = Ollama(model=\"llama3.1:8b\")"
   ]
  },
  {
   "cell_type": "code",
   "execution_count": 5,
   "id": "b924ffc8",
   "metadata": {},
   "outputs": [],
   "source": [
    "# One-shot examples for each language\n",
    "one_shot_examples = {\n",
    "    \"French\": {\n",
    "        \"text\": \"How many seasons of The Tiger Brigades have been released?\",\n",
    "        \"translation\": \"Combien de saisons de Les Brigades du Tigre ont été publiées?\",\n",
    "        \"entity_types\": [\"TV series\"],\n",
    "        \"entity translation\": \"Les Brigades du Tigre\"\n",
    "    },\n",
    "    \"German\": {\n",
    "        \"text\": \"How long did it take to build the Stockholm Court House?\",\n",
    "        \"translation\": \"Wie lange hat es gedauert, das Gerichtshaus von Stockholm zu bauen?\",\n",
    "        \"entity_types\": [\"Landmark\"],\n",
    "        \"entity translation\": \"Gerichtshaus von Stockholm\"\n",
    "    },\n",
    "    \"Spanish\": {\n",
    "        \"text\": \"Who played the lead role in the movie Torrente, the dumb arm of the law?\",\n",
    "        \"translation\": \"¿Quién interpretó el papel principal en la película Torrente, el brazo tonto de la ley?\",\n",
    "        \"entity_types\": [\"Movie\"],\n",
    "        \"entity translation\": \"Torrente, el brazo tonto de la ley\"\n",
    "    },\n",
    "    \"Italian\": {\n",
    "        \"text\": \"Is The Three Musketeers: D'Artagnan part of a duology or a trilogy?\",\n",
    "        \"translation\": \"I tre moschettieri - D'Artagnan fa parte di una dilogia o di una trilogia?\",\n",
    "        \"entity_types\": [\"Movie\"],\n",
    "        \"entity translation\": \"I tre moschettieri - D'Artagnan\"\n",
    "    },\n",
    "    \"Japanese\": {\n",
    "        \"text\": \"What is the significance of the Wudang Sect in the overall storyline of wuxia fiction?\",\n",
    "        \"translation\": \"武侠小説の全体的なストーリーラインにおける武当派の重要性は何ですか？\",\n",
    "        \"entity_types\": [\"Fictional entity\"],\n",
    "        \"entity translation\": \"武当派\"\n",
    "    },\n",
    "    \"Korean\": {\n",
    "        \"text\": \"Can visitors enter the Rüstem Pasha Mosque to explore its interior?\",\n",
    "        \"translation\": \"방문객들은 뤼스템 파샤 모스크 내부를 둘러볼 수 있나요?\",\n",
    "        \"entity_types\": [\"Place of worship\"],\n",
    "        \"entity translation\": \"뤼스템 파샤 모스크\"\n",
    "    },\n",
    "    \"Turkish\": {\n",
    "        \"text\": \"Is Clockwork Prince a standalone novel or part of a series?\",\n",
    "        \"translation\": \"Mekanik Prens bir roman mı yoksa bir serinin parçası mı?\",\n",
    "        \"entity_types\": [\"Artwork\", \"Book\"],\n",
    "        \"entity translation\": \"Mekanik Prens\"\n",
    "    },\n",
    "    \"Arabic\": {\n",
    "        \"text\": \"What is the purpose of Intermediate System to Intermediate System in networking?\",\n",
    "        \"translation\": \"ما هو الغرض من بروتوكول الربط بين الأنظمة الوسيطية في الشبكات؟\",\n",
    "        \"entity_types\": [\"Book\"],\n",
    "        \"entity translation\": \"بروتوكول الربط بين الأنظمة الوسيطية\"\n",
    "    },\n",
    "    \"Chinese (Traditional)\": {\n",
    "        \"text\": \"What are some characteristics of the White Queen's personality in the story?\",\n",
    "        \"translation\": \"故事中白王后的個性有哪些特徵？\",\n",
    "        \"entity_types\": [\"Person\", \"Fictional entity\"],\n",
    "        \"entity translation\": \"白王后\"\n",
    "    },\n",
    "    \"Thai\": {\n",
    "        \"text\": \"What is the architectural style of the Pagoda of Fogong Temple?\",\n",
    "        \"translation\": \"รูปแบบสถาปัตยกรรมของเจดีย์วัดฝอกงคืออะไร?\",\n",
    "        \"entity_types\": [\"Place of worship\"],\n",
    "        \"entity translation\": \"เจดีย์วัดฝอกง\"\n",
    "    }\n",
    "}"
   ]
  },
  {
   "cell_type": "code",
   "execution_count": 6,
   "id": "3dbc6dba",
   "metadata": {},
   "outputs": [
    {
     "data": {
      "text/plain": [
       "{'text': 'How many seasons of The Tiger Brigades have been released?',\n",
       " 'translation': 'Combien de saisons de Les Brigades du Tigre ont été publiées?',\n",
       " 'entity_types': ['TV series'],\n",
       " 'entity translation': 'Les Brigades du Tigre'}"
      ]
     },
     "execution_count": 6,
     "metadata": {},
     "output_type": "execute_result"
    }
   ],
   "source": [
    "one_shot_examples.get(\"French\")"
   ]
  },
  {
   "cell_type": "code",
   "execution_count": 7,
   "id": "bba5441c",
   "metadata": {},
   "outputs": [],
   "source": [
    "# Map file names to language names (adjust as needed)\n",
    "lang_map = {\n",
    "    'fr_FR': 'French',\n",
    "    'de_DE': 'German',\n",
    "    'es_ES': 'Spanish',\n",
    "    'it_IT': 'Italian',\n",
    "    'ja_JP': 'Japanese',\n",
    "    'ko_KR': 'Korean',\n",
    "    'th_TH': 'Thai',\n",
    "    'tr_TR': 'Turkish',\n",
    "    'zh_TW': 'Chinese (Traditional)',\n",
    "    'ar_AE': 'Arabic'\n",
    "}"
   ]
  },
  {
   "cell_type": "code",
   "execution_count": 8,
   "id": "f6da9f87",
   "metadata": {},
   "outputs": [
    {
     "name": "stdout",
     "output_type": "stream",
     "text": [
      "{'Arabic': [{'entity translation': 'بروتوكول الربط بين الأنظمة الوسيطية',\n",
      "             'entity_types': ['Book'],\n",
      "             'text': 'What is the purpose of Intermediate System to '\n",
      "                     'Intermediate System in networking?',\n",
      "             'translation': 'ما هو الغرض من بروتوكول الربط بين الأنظمة '\n",
      "                            'الوسيطية في الشبكات؟'},\n",
      "            {'entity translation': 'التوقيت الذري العالمي',\n",
      "             'entity_types': ['Book'],\n",
      "             'text': 'In which fields of study is International Atomic Time '\n",
      "                     'particularly important?',\n",
      "             'translation': 'في أي من مجالات الدراسة يعد التوقيت الذري العالمي '\n",
      "                            'مهم بشكل خاص؟'},\n",
      "            {'entity translation': 'التوقيت الذري العالمي',\n",
      "             'entity_types': ['Book'],\n",
      "             'text': 'Can International Atomic Time be used as a standard in '\n",
      "                     'various timekeeping devices?',\n",
      "             'translation': 'هل يمكن استخدام التوقيت الذري العالمي كمعيار في '\n",
      "                            'مختلف أجهزة ضبط الوقت؟'}],\n",
      " 'Chinese (Traditional)': [{'entity translation': '白王后',\n",
      "                            'entity_types': ['Person', 'Fictional entity'],\n",
      "                            'text': 'What are some characteristics of the '\n",
      "                                    \"White Queen's personality in the story?\",\n",
      "                            'translation': '故事中白王后的個性有哪些特徵？'},\n",
      "                           {'entity translation': '白王后',\n",
      "                            'entity_types': ['Person', 'Fictional entity'],\n",
      "                            'text': 'What is the role of the White Queen in '\n",
      "                                    \"Lewis Carroll's novel?\",\n",
      "                            'translation': '劉易斯·卡羅爾的小說中白王后的角色是什麼？'},\n",
      "                           {'entity translation': '白王后',\n",
      "                            'entity_types': ['Person', 'Fictional entity'],\n",
      "                            'text': 'How does the White Queen appear in '\n",
      "                                    \"Alice's adventures?\",\n",
      "                            'translation': '白王后在愛麗絲的冒險中是如何出現的？'}],\n",
      " 'French': [{'entity translation': 'Les Brigades du Tigre',\n",
      "             'entity_types': ['TV series'],\n",
      "             'text': 'How many seasons of The Tiger Brigades have been '\n",
      "                     'released?',\n",
      "             'translation': 'Combien de saisons de Les Brigades du Tigre ont '\n",
      "                            'été publiées?'},\n",
      "            {'entity translation': 'Les Brigades du Tigre',\n",
      "             'entity_types': ['TV series'],\n",
      "             'text': 'Who are the main characters in The Tiger Brigades?',\n",
      "             'translation': 'Qui sont les personnages principaux dans Les '\n",
      "                            'Brigades du Tigre?'},\n",
      "            {'entity translation': 'Les Brigades du Tigre',\n",
      "             'entity_types': ['TV series'],\n",
      "             'text': 'Where is The Tiger Brigades TV series set?',\n",
      "             'translation': 'Où se déroule la série télévisée Les Brigades du '\n",
      "                            'Tigre?'}],\n",
      " 'German': [{'entity translation': 'Gerichtshaus von Stockholm',\n",
      "             'entity_types': ['Landmark'],\n",
      "             'text': 'How long did it take to build the Stockholm Court House?',\n",
      "             'translation': 'Wie lange hat es gedauert, das Gerichtshaus von '\n",
      "                            'Stockholm zu bauen?'},\n",
      "            {'entity translation': 'Gerichtshaus von Stockholm',\n",
      "             'entity_types': ['Landmark'],\n",
      "             'text': 'What is the architectural style of the Stockholm Court '\n",
      "                     'House?',\n",
      "             'translation': 'Was ist der architektonische Stil des '\n",
      "                            'Gerichtshaus von Stockholm?'},\n",
      "            {'entity translation': 'Gerichtshaus von Stockholm',\n",
      "             'entity_types': ['Landmark'],\n",
      "             'text': 'In what country is the Stockholm Court House located?',\n",
      "             'translation': 'In welchem Land befindet sich das Gerichtshaus '\n",
      "                            'von Stockholm?'}],\n",
      " 'Italian': [{'entity translation': \"I tre moschettieri - D'Artagnan\",\n",
      "              'entity_types': ['Movie'],\n",
      "              'text': \"Is The Three Musketeers: D'Artagnan part of a duology \"\n",
      "                      'or a trilogy?',\n",
      "              'translation': \"I tre moschettieri - D'Artagnan fa parte di una \"\n",
      "                             'dilogia o di una trilogia?'},\n",
      "             {'entity translation': \"I tre moschettieri - D'Artagnan\",\n",
      "              'entity_types': ['Movie'],\n",
      "              'text': 'What is the genre of the movie The Three Musketeers: '\n",
      "                      \"D'Artagnan?\",\n",
      "              'translation': 'Qual è il genere del film I tre moschettieri - '\n",
      "                             \"D'Artagnan?\"},\n",
      "             {'entity translation': \"I tre moschettieri - D'Artagnan\",\n",
      "              'entity_types': ['Movie'],\n",
      "              'text': 'Which famous novel is the movie The Three Musketeers: '\n",
      "                      \"D'Artagnan based on?\",\n",
      "              'translation': 'Da quale famoso romanzo è tratto il film I tre '\n",
      "                             \"moschettieri - D'Artagnan?\"}],\n",
      " 'Japanese': [{'entity translation': '武当派',\n",
      "               'entity_types': ['Fictional entity'],\n",
      "               'text': 'What is the significance of the Wudang Sect in the '\n",
      "                       'overall storyline of wuxia fiction?',\n",
      "               'translation': '武侠小説の全体的なストーリーラインにおける武当派の重要性は何ですか？'},\n",
      "              {'entity translation': '武当派',\n",
      "               'entity_types': ['Fictional entity'],\n",
      "               'text': \"How does the Wudang Sect's martial arts style differ \"\n",
      "                       'from other sects?',\n",
      "               'translation': '武当派の武術スタイルは他の宗派とどう違うのですか？'},\n",
      "              {'entity translation': '武当派',\n",
      "               'entity_types': ['Fictional entity'],\n",
      "               'text': 'Which works of wuxia fiction mention the Wudang Sect?',\n",
      "               'translation': '武当派について言及している武侠小説の作品はどれですか？'}],\n",
      " 'Korean': [{'entity translation': '뤼스템 파샤 모스크',\n",
      "             'entity_types': ['Place of worship'],\n",
      "             'text': 'Can visitors enter the Rüstem Pasha Mosque to explore '\n",
      "                     'its interior?',\n",
      "             'translation': '방문객들은 뤼스템 파샤 모스크 내부를 둘러볼 수 있나요?'},\n",
      "            {'entity translation': '뤼스템 파샤 모스크',\n",
      "             'entity_types': ['Place of worship'],\n",
      "             'text': 'How would you describe the architectural style of the '\n",
      "                     'Rüstem Pasha Mosque?',\n",
      "             'translation': '뤼스템 파샤 모스크의 건축 양식을 어떻게 설명하시겠습니까?'},\n",
      "            {'entity translation': '뤼스템 파샤 모스크',\n",
      "             'entity_types': ['Place of worship'],\n",
      "             'text': 'What is the significance of the Rüstem Pasha Mosque '\n",
      "                     'within the local community?',\n",
      "             'translation': '지역 사회 내에서 뤼스템 파샤 모스크의 중요성은 무엇인가요?'}],\n",
      " 'Spanish': [{'entity translation': 'Torrente, el brazo tonto de la ley',\n",
      "              'entity_types': ['Movie'],\n",
      "              'text': 'Who played the lead role in the movie Torrente, the '\n",
      "                      'dumb arm of the law?',\n",
      "              'translation': '¿Quién interpretó el papel principal en la '\n",
      "                             'película Torrente, el brazo tonto de la ley?'},\n",
      "             {'entity translation': 'Torrente, el brazo tonto de la ley',\n",
      "              'entity_types': ['Movie'],\n",
      "              'text': 'What year was the movie Torrente, the dumb arm of the '\n",
      "                      'law released?',\n",
      "              'translation': '¿En qué año se estrenó la película Torrente, el '\n",
      "                             'brazo tonto de la ley?'},\n",
      "             {'entity translation': 'Torrente, el brazo tonto de la ley',\n",
      "              'entity_types': ['Movie'],\n",
      "              'text': 'What is the genre of the movie Torrente, the dumb arm '\n",
      "                      'of the law?',\n",
      "              'translation': '¿Cuál es el género de la película Torrente, el '\n",
      "                             'brazo tonto de la ley?'}],\n",
      " 'Thai': [{'entity translation': 'เจดีย์วัดฝอกง',\n",
      "           'entity_types': ['Place of worship'],\n",
      "           'text': 'What is the architectural style of the Pagoda of Fogong '\n",
      "                   'Temple?',\n",
      "           'translation': 'รูปแบบสถาปัตยกรรมของเจดีย์วัดฝอกงคืออะไร?'},\n",
      "          {'entity translation': 'เจดีย์วัดฝอกง',\n",
      "           'entity_types': ['Place of worship'],\n",
      "           'text': 'How tall is the Pagoda of Fogong Temple?',\n",
      "           'translation': 'เจดีย์วัดฝอกงสูงแค่ไหน?'},\n",
      "          {'entity translation': 'เจดีย์วัดฝอกง',\n",
      "           'entity_types': ['Place of worship'],\n",
      "           'text': 'In which city is the Pagoda of Fogong Temple located?',\n",
      "           'translation': 'เจดีย์วัดฝอกงตั้งอยู่ในเมืองใด'}],\n",
      " 'Turkish': [{'entity translation': 'Mekanik Prens',\n",
      "              'entity_types': ['Artwork', 'Book'],\n",
      "              'text': 'Is Clockwork Prince a standalone novel or part of a '\n",
      "                      'series?',\n",
      "              'translation': 'Mekanik Prens bir roman mı yoksa bir serinin '\n",
      "                             'parçası mı?'},\n",
      "             {'entity translation': 'Mekanik Prens',\n",
      "              'entity_types': ['Artwork', 'Book'],\n",
      "              'text': 'What year was Clockwork Prince published?',\n",
      "              'translation': 'Mekanik Prens hangi yıl yayınlandı?'},\n",
      "             {'entity translation': 'Mekanik Prens',\n",
      "              'entity_types': ['Artwork', 'Book'],\n",
      "              'text': 'What is the genre of Clockwork Prince?',\n",
      "              'translation': 'Mekanik Prens kitabının türü nedir?'}]}\n"
     ]
    }
   ],
   "source": [
    "few_shot_examples = {}\n",
    "SAMPLE_DIR = r'd:\\Python_projects\\DL_project\\data\\semeval\\sample'\n",
    "\n",
    "for file in glob.glob(os.path.join(SAMPLE_DIR, '*.jsonl')):\n",
    "    lang_code = os.path.splitext(os.path.basename(file))[0]\n",
    "    language = lang_map.get(lang_code, lang_code)\n",
    "    examples = []\n",
    "    with open(file, encoding='utf-8') as f:\n",
    "        for line in f:\n",
    "            if len(examples) >= 3:\n",
    "                break\n",
    "            data = json.loads(line)\n",
    "            # Use the first target as the canonical translation/mention\n",
    "            if data.get(\"targets\"):\n",
    "                target = data[\"targets\"][0]\n",
    "                examples.append({\n",
    "                    \"text\": data[\"source\"],\n",
    "                    \"translation\": target[\"translation\"],\n",
    "                    \"entity_types\": data.get(\"entity_types\", []),\n",
    "                    \"entity translation\": target.get(\"mention\", \"\")\n",
    "                })\n",
    "    if examples:\n",
    "        few_shot_examples[language] = examples\n",
    "\n",
    "# Print a sample for French\n",
    "from pprint import pprint\n",
    "pprint(few_shot_examples)"
   ]
  },
  {
   "cell_type": "code",
   "execution_count": 9,
   "id": "9b5e04a8",
   "metadata": {},
   "outputs": [],
   "source": [
    "# prompt = PromptTemplate(\n",
    "#     input_variables=[\"text\", \"language\"],\n",
    "#     template='''Translate the following sentence to {language}.\n",
    "#     Text: {text}\n",
    "#     Only output the translated text.\n",
    "#     Do not include any additional text or explanations.'''\n",
    "# )\n",
    "\n",
    "prompt = PromptTemplate(\n",
    "    input_variables=[\"text\", \"language\", \"few_shot_examples\"],\n",
    "    template='''\n",
    "You are a professional translator specialized in entity-aware translations from English to {language}.\n",
    "\n",
    "Translate the following text while adhering to these guidelines:\n",
    "- Keep named entities (people, organizations, places, dates, titles) in their original form unless a well-known equivalent exists in {language}.\n",
    "- Ensure the meaning and context remain intact.\n",
    "- Do not translate media names (books, movies, etc.) unless there is a widely accepted localized version.\n",
    "\n",
    "Here is are some examples for a text, its translation, entity types, and entity translation:\n",
    "{few_shot_examples}\n",
    "\n",
    "In the example entity types and entity translation are provided to help you understand how to handle entities in the text but are not required in the output. Output must have only the translation of the text in plain text without notes, symbols or any markings, nothing else. Here is the text to translate:\n",
    "text: {text}\n",
    "translation:\n",
    "'''\n",
    ")\n",
    "\n",
    "\n",
    "chain = prompt | llm"
   ]
  },
  {
   "cell_type": "code",
   "execution_count": 10,
   "id": "589874dc",
   "metadata": {},
   "outputs": [
    {
     "data": {
      "text/plain": [
       "\"\\nYou are a professional translator specialized in entity-aware translations from English to French.\\n\\nTranslate the following text while adhering to these guidelines:\\n- Keep named entities (people, organizations, places, dates, titles) in their original form unless a well-known equivalent exists in French.\\n- Ensure the meaning and context remain intact.\\n- Do not translate media names (books, movies, etc.) unless there is a widely accepted localized version.\\n\\nHere is are some examples for a text, its translation, entity types, and entity translation:\\n[{'text': 'How many seasons of The Tiger Brigades have been released?', 'translation': 'Combien de saisons de Les Brigades du Tigre ont été publiées?', 'entity_types': ['TV series'], 'entity translation': 'Les Brigades du Tigre'}, {'text': 'Who are the main characters in The Tiger Brigades?', 'translation': 'Qui sont les personnages principaux dans Les Brigades du Tigre?', 'entity_types': ['TV series'], 'entity translation': 'Les Brigades du Tigre'}, {'text': 'Where is The Tiger Brigades TV series set?', 'translation': 'Où se déroule la série télévisée Les Brigades du Tigre?', 'entity_types': ['TV series'], 'entity translation': 'Les Brigades du Tigre'}]\\n\\nIn the example entity types and entity translation are provided to help you understand how to handle entities in the text but are not required in the output. Output must have only the translation of the text in plain text without notes, symbols or any markings, nothing else. Here is the text to translate:\\ntext: test_text\\ntranslation:\\n\""
      ]
     },
     "execution_count": 10,
     "metadata": {},
     "output_type": "execute_result"
    }
   ],
   "source": [
    "prompt.format(\n",
    "        text=\"test_text\",\n",
    "        language=\"French\",\n",
    "        few_shot_examples=few_shot_examples.get(\"French\")\n",
    "    )"
   ]
  },
  {
   "cell_type": "markdown",
   "id": "73d2c4ad",
   "metadata": {},
   "source": [
    "## 5. Prepare Input and Output Paths\n",
    "Set the input data folder, find all `.jsonl` files, and create the output directory for predictions."
   ]
  },
  {
   "cell_type": "code",
   "execution_count": 11,
   "id": "96284bdd",
   "metadata": {},
   "outputs": [],
   "source": [
    "input_data_folder = \"data/references/validation/\"\n",
    "jsonl_files = glob.glob(f\"{input_data_folder}/*.jsonl\")\n",
    "\n",
    "output_prediction_dir = os.path.join(\"data/predictions\", model_name, \"validation\")\n",
    "os.makedirs(output_prediction_dir, exist_ok=True)"
   ]
  },
  {
   "cell_type": "markdown",
   "id": "fef1bf4f",
   "metadata": {},
   "source": [
    "## 6. Process and Translate JSONL Files\n",
    "For each JSONL file, read the data, invoke the translation chain for each record, and collect results."
   ]
  },
  {
   "cell_type": "code",
   "execution_count": null,
   "id": "77d9f9e8",
   "metadata": {},
   "outputs": [],
   "source": [
    "for file_path in jsonl_files:\n",
    "    filename = os.path.basename(file_path)\n",
    "    outfile_path = os.path.join(output_prediction_dir, filename)\n",
    "\n",
    "    data = []\n",
    "    with open(file_path, 'r', encoding='utf-8') as f:\n",
    "        for line in f:\n",
    "            data.append(json.loads(line))\n",
    "\n",
    "    results = []\n",
    "    for idx, record in enumerate(data, 1):\n",
    "        id = record['id']\n",
    "        source = record['source']\n",
    "        source_locale = record['source_locale']\n",
    "        source_language = get_language_name(source_locale)\n",
    "        target_locale = record['target_locale']\n",
    "        target_language = get_language_name(target_locale)\n",
    "        result = chain.invoke({\"text\": source, \"language\": target_language, \"few_shot_examples\": few_shot_examples.get(target_language)})\n",
    "        model_translation = result.strip()\n",
    "        results.append({\n",
    "            \"id\": id,\n",
    "            \"source_language\": source_language,\n",
    "            \"target_language\": target_language,\n",
    "            \"text\": source,\n",
    "            \"prediction\": model_translation,\n",
    "        })\n",
    "\n",
    "        if 'pbar' not in locals():\n",
    "            pbar = tqdm.tqdm(total=len(data))\n",
    "\n",
    "        pbar.update(1)\n",
    "\n",
    "        if idx % 10 == 0 or idx == len(data):\n",
    "            with open(outfile_path, 'w', encoding='utf-8') as f:\n",
    "                for res in results:\n",
    "                    f.write(json.dumps(res, ensure_ascii=False) + '\\n')\n",
    "\n",
    "    print(f\"Translations saved to {outfile_path}\")"
   ]
  },
  {
   "cell_type": "markdown",
   "id": "8ba36549",
   "metadata": {},
   "source": [
    "## 7. Save Translations to Output Files\n",
    "Write the translation results to output files in the specified directory, updating progress with tqdm."
   ]
  },
  {
   "cell_type": "code",
   "execution_count": null,
   "id": "008055bd",
   "metadata": {},
   "outputs": [
    {
     "name": "stderr",
     "output_type": "stream",
     "text": [
      "7278it [1:30:02,  1.35it/s]\n"
     ]
    }
   ],
   "source": [
    "if 'pbar' in locals():\n",
    "    pbar.close()"
   ]
  }
 ],
 "metadata": {
  "kernelspec": {
   "display_name": "Python 3",
   "language": "python",
   "name": "python3"
  },
  "language_info": {
   "codemirror_mode": {
    "name": "ipython",
    "version": 3
   },
   "file_extension": ".py",
   "mimetype": "text/x-python",
   "name": "python",
   "nbconvert_exporter": "python",
   "pygments_lexer": "ipython3",
   "version": "3.12.8"
  }
 },
 "nbformat": 4,
 "nbformat_minor": 5
}
